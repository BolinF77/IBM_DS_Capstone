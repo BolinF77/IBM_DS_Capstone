{
 "cells": [
  {
   "cell_type": "markdown",
   "metadata": {},
   "source": [
    "# IBM Data Science Capstone Project - The Battle of Neighborhoods (Week 1)"
   ]
  },
  {
   "cell_type": "markdown",
   "metadata": {},
   "source": [
    "### Introduction/Business Problem"
   ]
  },
  {
   "cell_type": "markdown",
   "metadata": {},
   "source": [
    "Paris, capital of France, is one of the most important and influential cities in the world. In terms of tourism, Paris is the second most visited city in Europe after London. The capital of France seems to have been designed specifically for the enjoyment of its visitors. Its streets, squares, buildings, gardens and monuments beckon tourists to return, and indeed, many do.\n",
    "\n",
    "Tourists from everywhere of the world visit Paris everyday in two ways bascally: with travel agencies providing standard \"must see\" guided tours or plan themselves with the help of websites or traval app full of impersonalised recommandation. Time is short and time is money. How to make the trip as personalised as possible so make the days in Paris as profitable as possible? Customised travel services are usually very expensive and not accessible to everyone then they always rely on experimented humain guide expertise which can be asychronised in termes of POI (Points of Interests) data. \n",
    "\n",
    "This project will try to give access to everyone the possibilité to customise his trip in Paris based on his personal interests. With the help of data visualisation he can easily make his ideas on which parisian arrondissement to be visited on priority with a deeper understanding on points of interests in different categories of arrondissement. "
   ]
  },
  {
   "cell_type": "markdown",
   "metadata": {},
   "source": [
    "### Data section"
   ]
  },
  {
   "cell_type": "markdown",
   "metadata": {},
   "source": [
    "Geo-Coordinate Data: \n",
    "\n",
    "For this project we will use dataset from opendata.paris.fr for the arrondissements of Paris\n",
    "\n",
    "Points of Interests Data:\n",
    "\n",
    "We will need data about different venues across all of Paris and connect each venue to its respective arrondissement. To gain this information, we will use Foursquare API. "
   ]
  }
 ],
 "metadata": {
  "kernelspec": {
   "display_name": "Python 3",
   "language": "python",
   "name": "python3"
  },
  "language_info": {
   "codemirror_mode": {
    "name": "ipython",
    "version": 3
   },
   "file_extension": ".py",
   "mimetype": "text/x-python",
   "name": "python",
   "nbconvert_exporter": "python",
   "pygments_lexer": "ipython3",
   "version": "3.7.9"
  }
 },
 "nbformat": 4,
 "nbformat_minor": 4
}
